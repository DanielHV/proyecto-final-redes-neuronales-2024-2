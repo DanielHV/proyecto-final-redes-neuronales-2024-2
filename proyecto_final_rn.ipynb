{
 "cells": [
  {
   "cell_type": "markdown",
   "metadata": {},
   "source": [
    "# Proyecto final: Clasificación de URLs maliciosas mediante red neuronal multicapa"
   ]
  },
  {
   "cell_type": "markdown",
   "metadata": {},
   "source": [
    "En el notebook se describe cada parte del proyecto de manera resumida, véase el reporte para una descripción más completa."
   ]
  },
  {
   "cell_type": "code",
   "execution_count": 106,
   "metadata": {},
   "outputs": [],
   "source": [
    "# librerias necesarias\n",
    "# Nota: ademas de las librerias listadas, es necesario instalar la libreria urllib con el comando pip install urllib\n",
    "\n",
    "import numpy as np\n",
    "\n",
    "import pandas as pd\n",
    "\n",
    "import matplotlib.pyplot as plt\n",
    "\n",
    "import torch\n",
    "import torch.nn as nn\n",
    "\n",
    "from sklearn.preprocessing import MinMaxScaler\n",
    "from sklearn.model_selection import train_test_split\n",
    "from sklearn.preprocessing import OneHotEncoder\n",
    "from sklearn.metrics import confusion_matrix\n",
    "from sklearn.metrics import accuracy_score\n",
    "\n",
    "import ipywidgets as widgets\n",
    "from IPython.display import display\n",
    "from IPython.display import clear_output"
   ]
  },
  {
   "cell_type": "code",
   "execution_count": 46,
   "metadata": {},
   "outputs": [
    {
     "data": {
      "text/plain": [
       "device(type='cuda')"
      ]
     },
     "execution_count": 46,
     "metadata": {},
     "output_type": "execute_result"
    }
   ],
   "source": [
    "device = torch.device('cuda' if torch.cuda.is_available() else 'cpu')\n",
    "device"
   ]
  },
  {
   "cell_type": "markdown",
   "metadata": {},
   "source": [
    "## Dataset"
   ]
  },
  {
   "cell_type": "markdown",
   "metadata": {},
   "source": [
    "Antes de comenzar con el preprocesamiento de datos se realizó una corrección al dataset utilizado, dado que el dataset utilizado es en realidad una recopilación de distintos dataset, en Kaggle un usuario encontró un error donde las etiquetas de uno de los dataset originales (*phishstorm*) fueron invertidas, por lo que se descargó el dataset original y se realizó la corrección al dataset, el trabajo realizado se encuentra en la carpeta *correccion_dataset*.\n",
    "\n",
    "De igual manera al realizar esta corrección se encontró un pequeño grupo de urls donde existía un error de codificación en el texto, por lo que se removieron manualmente.\n",
    "\n",
    "El archivo resultante que se utiliza es *malicious_phish_updated.csv*"
   ]
  },
  {
   "cell_type": "code",
   "execution_count": 47,
   "metadata": {},
   "outputs": [
    {
     "data": {
      "text/html": [
       "<div>\n",
       "<style scoped>\n",
       "    .dataframe tbody tr th:only-of-type {\n",
       "        vertical-align: middle;\n",
       "    }\n",
       "\n",
       "    .dataframe tbody tr th {\n",
       "        vertical-align: top;\n",
       "    }\n",
       "\n",
       "    .dataframe thead th {\n",
       "        text-align: right;\n",
       "    }\n",
       "</style>\n",
       "<table border=\"1\" class=\"dataframe\">\n",
       "  <thead>\n",
       "    <tr style=\"text-align: right;\">\n",
       "      <th></th>\n",
       "      <th>url</th>\n",
       "      <th>type</th>\n",
       "    </tr>\n",
       "  </thead>\n",
       "  <tbody>\n",
       "    <tr>\n",
       "      <th>0</th>\n",
       "      <td>br-icloud.com.br</td>\n",
       "      <td>phishing</td>\n",
       "    </tr>\n",
       "    <tr>\n",
       "      <th>1</th>\n",
       "      <td>mp3raid.com/music/krizz_kaliko.html</td>\n",
       "      <td>benign</td>\n",
       "    </tr>\n",
       "    <tr>\n",
       "      <th>2</th>\n",
       "      <td>bopsecrets.org/rexroth/cr/1.htm</td>\n",
       "      <td>benign</td>\n",
       "    </tr>\n",
       "    <tr>\n",
       "      <th>3</th>\n",
       "      <td>http://www.garage-pirenne.be/index.php?option=...</td>\n",
       "      <td>defacement</td>\n",
       "    </tr>\n",
       "    <tr>\n",
       "      <th>4</th>\n",
       "      <td>http://adventure-nicaragua.net/index.php?optio...</td>\n",
       "      <td>defacement</td>\n",
       "    </tr>\n",
       "    <tr>\n",
       "      <th>...</th>\n",
       "      <td>...</td>\n",
       "      <td>...</td>\n",
       "    </tr>\n",
       "    <tr>\n",
       "      <th>651092</th>\n",
       "      <td>xbox360.ign.com/objects/850/850402.html</td>\n",
       "      <td>benign</td>\n",
       "    </tr>\n",
       "    <tr>\n",
       "      <th>651093</th>\n",
       "      <td>games.teamxbox.com/xbox-360/1860/Dead-Space/</td>\n",
       "      <td>benign</td>\n",
       "    </tr>\n",
       "    <tr>\n",
       "      <th>651094</th>\n",
       "      <td>www.gamespot.com/xbox360/action/deadspace/</td>\n",
       "      <td>benign</td>\n",
       "    </tr>\n",
       "    <tr>\n",
       "      <th>651095</th>\n",
       "      <td>en.wikipedia.org/wiki/Dead_Space_(video_game)</td>\n",
       "      <td>benign</td>\n",
       "    </tr>\n",
       "    <tr>\n",
       "      <th>651096</th>\n",
       "      <td>www.angelfire.com/goth/devilmaycrytonite/</td>\n",
       "      <td>benign</td>\n",
       "    </tr>\n",
       "  </tbody>\n",
       "</table>\n",
       "<p>651097 rows × 2 columns</p>\n",
       "</div>"
      ],
      "text/plain": [
       "                                                      url        type\n",
       "0                                        br-icloud.com.br    phishing\n",
       "1                     mp3raid.com/music/krizz_kaliko.html      benign\n",
       "2                         bopsecrets.org/rexroth/cr/1.htm      benign\n",
       "3       http://www.garage-pirenne.be/index.php?option=...  defacement\n",
       "4       http://adventure-nicaragua.net/index.php?optio...  defacement\n",
       "...                                                   ...         ...\n",
       "651092            xbox360.ign.com/objects/850/850402.html      benign\n",
       "651093       games.teamxbox.com/xbox-360/1860/Dead-Space/      benign\n",
       "651094         www.gamespot.com/xbox360/action/deadspace/      benign\n",
       "651095      en.wikipedia.org/wiki/Dead_Space_(video_game)      benign\n",
       "651096          www.angelfire.com/goth/devilmaycrytonite/      benign\n",
       "\n",
       "[651097 rows x 2 columns]"
      ]
     },
     "execution_count": 47,
     "metadata": {},
     "output_type": "execute_result"
    }
   ],
   "source": [
    "urls = pd.read_csv('malicious_phish_updated.csv')\n",
    "urls"
   ]
  },
  {
   "cell_type": "code",
   "execution_count": 48,
   "metadata": {},
   "outputs": [
    {
     "name": "stdout",
     "output_type": "stream",
     "text": [
      "type\n",
      "benign        428208\n",
      "defacement     96457\n",
      "phishing       93912\n",
      "malware        32520\n",
      "Name: count, dtype: int64\n"
     ]
    },
    {
     "data": {
      "image/png": "[encoded data removed]",
      "text/plain": [
       "<Figure size 640x480 with 1 Axes>"
      ]
     },
     "metadata": {},
     "output_type": "display_data"
    }
   ],
   "source": [
    "label_counts = urls['type'].value_counts()\n",
    "\n",
    "print(label_counts)\n",
    "\n",
    "label_counts.plot(kind='bar')\n",
    "plt.xticks(rotation='horizontal')\n",
    "plt.show()"
   ]
  },
  {
   "cell_type": "markdown",
   "metadata": {},
   "source": [
    "# Preprocesamiento de datos"
   ]
  },
  {
   "cell_type": "code",
   "execution_count": 49,
   "metadata": {},
   "outputs": [],
   "source": [
    "from urllib.parse import urlparse"
   ]
  },
  {
   "cell_type": "markdown",
   "metadata": {},
   "source": [
    "## Balanceo de datos"
   ]
  },
  {
   "cell_type": "markdown",
   "metadata": {},
   "source": [
    "Al tener datos significativamente desbalanceados, el reducir a la mitad la clase predominante (benign) ayuda de manera significativa al aprendizaje de la red."
   ]
  },
  {
   "cell_type": "code",
   "execution_count": 50,
   "metadata": {},
   "outputs": [
    {
     "name": "stdout",
     "output_type": "stream",
     "text": [
      "type\n",
      "benign        214104\n",
      "defacement     96457\n",
      "phishing       93912\n",
      "malware        32520\n",
      "Name: count, dtype: int64\n"
     ]
    },
    {
     "data": {
      "image/png": "[encoded data removed]",
      "text/plain": [
       "<Figure size 640x480 with 1 Axes>"
      ]
     },
     "metadata": {},
     "output_type": "display_data"
    }
   ],
   "source": [
    "benign_rows = urls[urls['type'] == 'benign']\n",
    "rows_to_drop = benign_rows.sample(frac=0.5)\n",
    "urls = urls.drop(rows_to_drop.index)\n",
    "urls.reset_index(drop=True)\n",
    "urls = urls.reset_index(drop=True)\n",
    "\n",
    "label_counts = urls['type'].value_counts()\n",
    "print(label_counts)\n",
    "label_counts.plot(kind='bar')\n",
    "plt.xticks(rotation='horizontal')\n",
    "plt.show()"
   ]
  },
  {
   "cell_type": "markdown",
   "metadata": {},
   "source": [
    "En las siguientes celdas se procede a definir funciones para extraer características relevantes de cada URL de las cuales se hará uso para entrenar la red neuronal."
   ]
  },
  {
   "cell_type": "markdown",
   "metadata": {},
   "source": [
    "## Tamaño de URL"
   ]
  },
  {
   "cell_type": "code",
   "execution_count": 51,
   "metadata": {},
   "outputs": [],
   "source": [
    "urls['length'] = urls['url'].apply(len)"
   ]
  },
  {
   "cell_type": "markdown",
   "metadata": {},
   "source": [
    "## Densidad de vocales presentes en el URL"
   ]
  },
  {
   "cell_type": "code",
   "execution_count": 52,
   "metadata": {},
   "outputs": [],
   "source": [
    "def calculate_vowel_density(url):\n",
    "    vowels = 'aeiou'\n",
    "    vowel_count = sum(1 for char in url if char.lower() in vowels)\n",
    "    return vowel_count / len(url)"
   ]
  },
  {
   "cell_type": "code",
   "execution_count": 53,
   "metadata": {},
   "outputs": [],
   "source": [
    "urls['vowel_density'] = urls['url'].apply(calculate_vowel_density)"
   ]
  },
  {
   "cell_type": "markdown",
   "metadata": {},
   "source": [
    "## Densidad de consonantes presentes en el URL"
   ]
  },
  {
   "cell_type": "code",
   "execution_count": 54,
   "metadata": {},
   "outputs": [],
   "source": [
    "def calculate_consonant_density(text):\n",
    "    consonants = 'bcdfghjklmnpqrstvwxyz'\n",
    "    consonant_count = sum(1 for char in text if char.lower() in consonants)\n",
    "    return consonant_count / len(text)"
   ]
  },
  {
   "cell_type": "code",
   "execution_count": 55,
   "metadata": {},
   "outputs": [],
   "source": [
    "urls['consonant_density'] = urls['url'].apply(calculate_consonant_density)"
   ]
  },
  {
   "cell_type": "markdown",
   "metadata": {},
   "source": [
    "## Densidad de digitos presentes en el URL"
   ]
  },
  {
   "cell_type": "code",
   "execution_count": 56,
   "metadata": {},
   "outputs": [],
   "source": [
    "def calculate_digit_density(url):\n",
    "    digit_count = sum(1 for char in url if char.isdigit())  \n",
    "    return digit_count / len(url)"
   ]
  },
  {
   "cell_type": "code",
   "execution_count": 57,
   "metadata": {},
   "outputs": [],
   "source": [
    "urls['digit_density'] = urls['url'].apply(calculate_digit_density)"
   ]
  },
  {
   "cell_type": "markdown",
   "metadata": {},
   "source": [
    "## Densidad de símbolos presentes en el URL"
   ]
  },
  {
   "cell_type": "code",
   "execution_count": 58,
   "metadata": {},
   "outputs": [],
   "source": [
    "def calculate_symbol_density(url):\n",
    "    symbol_count = sum(1 for char in url if not char.isalnum())\n",
    "    return symbol_count / len(url)"
   ]
  },
  {
   "cell_type": "code",
   "execution_count": 59,
   "metadata": {},
   "outputs": [],
   "source": [
    "urls['symbol_density'] = urls['url'].apply(calculate_symbol_density)"
   ]
  },
  {
   "cell_type": "markdown",
   "metadata": {},
   "source": [
    "## Cantidad de vocales seguidas de una consonante"
   ]
  },
  {
   "cell_type": "code",
   "execution_count": 60,
   "metadata": {},
   "outputs": [],
   "source": [
    "def vowel_consonant_density(url):\n",
    "    vowels = 'aeiou'\n",
    "    consonants = 'bcdfghjklmnpqrstvwxyz'\n",
    "    pair_count = sum(1 for i in range(len(url) - 1) if url[i].lower() in vowels and url[i+1].lower() in consonants)\n",
    "    return pair_count / len(url)"
   ]
  },
  {
   "cell_type": "code",
   "execution_count": 61,
   "metadata": {},
   "outputs": [],
   "source": [
    "urls['vowel_consonant_pairs_density'] = urls['url'].apply(vowel_consonant_density)"
   ]
  },
  {
   "cell_type": "markdown",
   "metadata": {},
   "source": [
    "## Cantidad de consonantes seguidas de vocales"
   ]
  },
  {
   "cell_type": "code",
   "execution_count": 62,
   "metadata": {},
   "outputs": [],
   "source": [
    "def consonant_vowel_pairs_density(url):\n",
    "    vowels = 'aeiou'\n",
    "    consonants = 'bcdfghjklmnpqrstvwxyz'\n",
    "    pair_count = sum(1 for i in range(len(url) - 1) if url[i].lower() in consonants and url[i+1].lower() in vowels)\n",
    "    return pair_count / len(url)"
   ]
  },
  {
   "cell_type": "code",
   "execution_count": 63,
   "metadata": {},
   "outputs": [],
   "source": [
    "urls['consonant_vowel_pairs_density'] = urls['url'].apply(consonant_vowel_pairs_density)"
   ]
  },
  {
   "cell_type": "markdown",
   "metadata": {},
   "source": [
    "## Cantidad de vocales seguidas de vocales"
   ]
  },
  {
   "cell_type": "code",
   "execution_count": 64,
   "metadata": {},
   "outputs": [],
   "source": [
    "def vowel_vowel_pairs_density(url):\n",
    "    vowels = 'aeiou'\n",
    "    pair_count = sum(1 for i in range(len(url) - 1) if url[i].lower() in vowels and url[i+1].lower() in vowels)\n",
    "    return pair_count / len(url)"
   ]
  },
  {
   "cell_type": "code",
   "execution_count": 65,
   "metadata": {},
   "outputs": [],
   "source": [
    "urls['vowel_vowel_pairs_density'] = urls['url'].apply(vowel_vowel_pairs_density)"
   ]
  },
  {
   "cell_type": "markdown",
   "metadata": {},
   "source": [
    "## Cantidad de consonantes seguidas de consonantes"
   ]
  },
  {
   "cell_type": "code",
   "execution_count": 66,
   "metadata": {},
   "outputs": [],
   "source": [
    "def consonant_consonant_pairs_density(url):\n",
    "    consonants = 'bcdfghjklmnpqrstvwxyz'\n",
    "    pair_count = sum(1 for i in range(len(url) - 1) if url[i].lower() in consonants and url[i+1].lower() in consonants)\n",
    "    return pair_count / len(url)"
   ]
  },
  {
   "cell_type": "code",
   "execution_count": 67,
   "metadata": {},
   "outputs": [],
   "source": [
    "urls['consonant_consonant_pairs_density'] = urls['url'].apply(consonant_consonant_pairs_density)"
   ]
  },
  {
   "cell_type": "markdown",
   "metadata": {},
   "source": [
    "## Cantidad de dígitos seguidos de digitos"
   ]
  },
  {
   "cell_type": "code",
   "execution_count": 68,
   "metadata": {},
   "outputs": [],
   "source": [
    "def digit_digit_pairs_density(url):\n",
    "    pair_count = sum(1 for i in range(len(url) - 1) if url[i].isdigit() and url[i+1].isdigit())\n",
    "    return pair_count / len(url) if url else 0"
   ]
  },
  {
   "cell_type": "code",
   "execution_count": 69,
   "metadata": {},
   "outputs": [],
   "source": [
    "urls['digit_digit_pairs_density'] = urls['url'].apply(digit_digit_pairs_density)"
   ]
  },
  {
   "cell_type": "markdown",
   "metadata": {},
   "source": [
    "## Contiene la cadena \"www\" o no"
   ]
  },
  {
   "cell_type": "code",
   "execution_count": 70,
   "metadata": {},
   "outputs": [],
   "source": [
    "def has_www(url):\n",
    "    return True if 'www' in url else False"
   ]
  },
  {
   "cell_type": "code",
   "execution_count": 71,
   "metadata": {},
   "outputs": [],
   "source": [
    "urls['has_www'] = urls['url'].apply(has_www)"
   ]
  },
  {
   "cell_type": "markdown",
   "metadata": {},
   "source": [
    "## Cantidad de mayúsculas"
   ]
  },
  {
   "cell_type": "code",
   "execution_count": 72,
   "metadata": {},
   "outputs": [],
   "source": [
    "def capital_letter_density(url):\n",
    "    capital_count = sum(1 for char in url if char.isupper())\n",
    "    return capital_count / len(url) if url else 0"
   ]
  },
  {
   "cell_type": "code",
   "execution_count": 73,
   "metadata": {},
   "outputs": [],
   "source": [
    "urls['capital_letter_density'] = urls['url'].apply(capital_letter_density)"
   ]
  },
  {
   "cell_type": "markdown",
   "metadata": {},
   "source": [
    "## Tamaño del path"
   ]
  },
  {
   "cell_type": "code",
   "execution_count": 74,
   "metadata": {},
   "outputs": [],
   "source": [
    "def count_subdirectories(url):\n",
    "    return urlparse(url).path.count('/')\n"
   ]
  },
  {
   "cell_type": "code",
   "execution_count": 75,
   "metadata": {},
   "outputs": [],
   "source": [
    "urls['subdirectories_count'] = urls['url'].apply(count_subdirectories)"
   ]
  },
  {
   "cell_type": "markdown",
   "metadata": {},
   "source": [
    "## Número de consultas realizadas"
   ]
  },
  {
   "cell_type": "code",
   "execution_count": 76,
   "metadata": {},
   "outputs": [],
   "source": [
    "def count_queries(url):\n",
    "    return urlparse(url).query.count('=')"
   ]
  },
  {
   "cell_type": "code",
   "execution_count": 77,
   "metadata": {},
   "outputs": [],
   "source": [
    "urls['query_count'] = urls['url'].apply(count_queries)"
   ]
  },
  {
   "cell_type": "markdown",
   "metadata": {},
   "source": [
    "## Resultado de extracción de características"
   ]
  },
  {
   "cell_type": "markdown",
   "metadata": {},
   "source": [
    "El dataframe resultante extrae 14 caracteríticas de cada URL:"
   ]
  },
  {
   "cell_type": "code",
   "execution_count": 40,
   "metadata": {},
   "outputs": [
    {
     "data": {
      "text/html": [
       "<div>\n",
       "<style scoped>\n",
       "    .dataframe tbody tr th:only-of-type {\n",
       "        vertical-align: middle;\n",
       "    }\n",
       "\n",
       "    .dataframe tbody tr th {\n",
       "        vertical-align: top;\n",
       "    }\n",
       "\n",
       "    .dataframe thead th {\n",
       "        text-align: right;\n",
       "    }\n",
       "</style>\n",
       "<table border=\"1\" class=\"dataframe\">\n",
       "  <thead>\n",
       "    <tr style=\"text-align: right;\">\n",
       "      <th></th>\n",
       "      <th>url</th>\n",
       "      <th>type</th>\n",
       "      <th>length</th>\n",
       "      <th>vowel_density</th>\n",
       "      <th>consonant_density</th>\n",
       "      <th>digit_density</th>\n",
       "      <th>symbol_density</th>\n",
       "      <th>vowel_consonant_pairs_density</th>\n",
       "      <th>consonant_vowel_pairs_density</th>\n",
       "      <th>vowel_vowel_pairs_density</th>\n",
       "      <th>consonant_consonant_pairs_density</th>\n",
       "      <th>digit_digit_pairs_density</th>\n",
       "      <th>has_www</th>\n",
       "      <th>capital_letter_density</th>\n",
       "      <th>subdirectories_count</th>\n",
       "      <th>query_count</th>\n",
       "    </tr>\n",
       "  </thead>\n",
       "  <tbody>\n",
       "    <tr>\n",
       "      <th>0</th>\n",
       "      <td>br-icloud.com.br</td>\n",
       "      <td>phishing</td>\n",
       "      <td>16</td>\n",
       "      <td>0.250000</td>\n",
       "      <td>0.562500</td>\n",
       "      <td>0.000000</td>\n",
       "      <td>0.187500</td>\n",
       "      <td>0.187500</td>\n",
       "      <td>0.125000</td>\n",
       "      <td>0.062500</td>\n",
       "      <td>0.187500</td>\n",
       "      <td>0.000000</td>\n",
       "      <td>False</td>\n",
       "      <td>0.000000</td>\n",
       "      <td>0</td>\n",
       "      <td>0</td>\n",
       "    </tr>\n",
       "    <tr>\n",
       "      <th>1</th>\n",
       "      <td>http://www.garage-pirenne.be/index.php?option=...</td>\n",
       "      <td>defacement</td>\n",
       "      <td>88</td>\n",
       "      <td>0.250000</td>\n",
       "      <td>0.465909</td>\n",
       "      <td>0.079545</td>\n",
       "      <td>0.204545</td>\n",
       "      <td>0.181818</td>\n",
       "      <td>0.181818</td>\n",
       "      <td>0.022727</td>\n",
       "      <td>0.170455</td>\n",
       "      <td>0.034091</td>\n",
       "      <td>True</td>\n",
       "      <td>0.000000</td>\n",
       "      <td>1</td>\n",
       "      <td>4</td>\n",
       "    </tr>\n",
       "    <tr>\n",
       "      <th>2</th>\n",
       "      <td>http://adventure-nicaragua.net/index.php?optio...</td>\n",
       "      <td>defacement</td>\n",
       "      <td>235</td>\n",
       "      <td>0.157447</td>\n",
       "      <td>0.689362</td>\n",
       "      <td>0.093617</td>\n",
       "      <td>0.059574</td>\n",
       "      <td>0.119149</td>\n",
       "      <td>0.102128</td>\n",
       "      <td>0.021277</td>\n",
       "      <td>0.472340</td>\n",
       "      <td>0.012766</td>\n",
       "      <td>False</td>\n",
       "      <td>0.268085</td>\n",
       "      <td>1</td>\n",
       "      <td>3</td>\n",
       "    </tr>\n",
       "    <tr>\n",
       "      <th>3</th>\n",
       "      <td>espn.go.com/nba/player/_/id/3457/brandon-rush</td>\n",
       "      <td>benign</td>\n",
       "      <td>45</td>\n",
       "      <td>0.222222</td>\n",
       "      <td>0.466667</td>\n",
       "      <td>0.088889</td>\n",
       "      <td>0.222222</td>\n",
       "      <td>0.177778</td>\n",
       "      <td>0.177778</td>\n",
       "      <td>0.000000</td>\n",
       "      <td>0.155556</td>\n",
       "      <td>0.066667</td>\n",
       "      <td>False</td>\n",
       "      <td>0.000000</td>\n",
       "      <td>6</td>\n",
       "      <td>0</td>\n",
       "    </tr>\n",
       "    <tr>\n",
       "      <th>4</th>\n",
       "      <td>yourbittorrent.com/?q=anthony-hamilton-soulife</td>\n",
       "      <td>benign</td>\n",
       "      <td>46</td>\n",
       "      <td>0.326087</td>\n",
       "      <td>0.543478</td>\n",
       "      <td>0.000000</td>\n",
       "      <td>0.130435</td>\n",
       "      <td>0.260870</td>\n",
       "      <td>0.260870</td>\n",
       "      <td>0.043478</td>\n",
       "      <td>0.173913</td>\n",
       "      <td>0.000000</td>\n",
       "      <td>False</td>\n",
       "      <td>0.000000</td>\n",
       "      <td>1</td>\n",
       "      <td>1</td>\n",
       "    </tr>\n",
       "    <tr>\n",
       "      <th>...</th>\n",
       "      <td>...</td>\n",
       "      <td>...</td>\n",
       "      <td>...</td>\n",
       "      <td>...</td>\n",
       "      <td>...</td>\n",
       "      <td>...</td>\n",
       "      <td>...</td>\n",
       "      <td>...</td>\n",
       "      <td>...</td>\n",
       "      <td>...</td>\n",
       "      <td>...</td>\n",
       "      <td>...</td>\n",
       "      <td>...</td>\n",
       "      <td>...</td>\n",
       "      <td>...</td>\n",
       "      <td>...</td>\n",
       "    </tr>\n",
       "    <tr>\n",
       "      <th>479809</th>\n",
       "      <td>psx.ign.com/articles/131/131835p1.html</td>\n",
       "      <td>benign</td>\n",
       "      <td>38</td>\n",
       "      <td>0.131579</td>\n",
       "      <td>0.447368</td>\n",
       "      <td>0.263158</td>\n",
       "      <td>0.157895</td>\n",
       "      <td>0.131579</td>\n",
       "      <td>0.078947</td>\n",
       "      <td>0.000000</td>\n",
       "      <td>0.210526</td>\n",
       "      <td>0.184211</td>\n",
       "      <td>False</td>\n",
       "      <td>0.000000</td>\n",
       "      <td>3</td>\n",
       "      <td>0</td>\n",
       "    </tr>\n",
       "    <tr>\n",
       "      <th>479810</th>\n",
       "      <td>xbox360.gamespy.com/xbox-360/dead-space/</td>\n",
       "      <td>benign</td>\n",
       "      <td>40</td>\n",
       "      <td>0.225000</td>\n",
       "      <td>0.450000</td>\n",
       "      <td>0.150000</td>\n",
       "      <td>0.175000</td>\n",
       "      <td>0.175000</td>\n",
       "      <td>0.200000</td>\n",
       "      <td>0.025000</td>\n",
       "      <td>0.125000</td>\n",
       "      <td>0.100000</td>\n",
       "      <td>False</td>\n",
       "      <td>0.000000</td>\n",
       "      <td>3</td>\n",
       "      <td>0</td>\n",
       "    </tr>\n",
       "    <tr>\n",
       "      <th>479811</th>\n",
       "      <td>games.teamxbox.com/xbox-360/1860/Dead-Space/</td>\n",
       "      <td>benign</td>\n",
       "      <td>44</td>\n",
       "      <td>0.250000</td>\n",
       "      <td>0.409091</td>\n",
       "      <td>0.159091</td>\n",
       "      <td>0.181818</td>\n",
       "      <td>0.181818</td>\n",
       "      <td>0.204545</td>\n",
       "      <td>0.045455</td>\n",
       "      <td>0.090909</td>\n",
       "      <td>0.113636</td>\n",
       "      <td>False</td>\n",
       "      <td>0.045455</td>\n",
       "      <td>4</td>\n",
       "      <td>0</td>\n",
       "    </tr>\n",
       "    <tr>\n",
       "      <th>479812</th>\n",
       "      <td>en.wikipedia.org/wiki/Dead_Space_(video_game)</td>\n",
       "      <td>benign</td>\n",
       "      <td>45</td>\n",
       "      <td>0.400000</td>\n",
       "      <td>0.400000</td>\n",
       "      <td>0.000000</td>\n",
       "      <td>0.200000</td>\n",
       "      <td>0.222222</td>\n",
       "      <td>0.288889</td>\n",
       "      <td>0.066667</td>\n",
       "      <td>0.044444</td>\n",
       "      <td>0.000000</td>\n",
       "      <td>False</td>\n",
       "      <td>0.044444</td>\n",
       "      <td>2</td>\n",
       "      <td>0</td>\n",
       "    </tr>\n",
       "    <tr>\n",
       "      <th>479813</th>\n",
       "      <td>www.angelfire.com/goth/devilmaycrytonite/</td>\n",
       "      <td>benign</td>\n",
       "      <td>41</td>\n",
       "      <td>0.292683</td>\n",
       "      <td>0.585366</td>\n",
       "      <td>0.000000</td>\n",
       "      <td>0.121951</td>\n",
       "      <td>0.243902</td>\n",
       "      <td>0.268293</td>\n",
       "      <td>0.000000</td>\n",
       "      <td>0.243902</td>\n",
       "      <td>0.000000</td>\n",
       "      <td>True</td>\n",
       "      <td>0.000000</td>\n",
       "      <td>3</td>\n",
       "      <td>0</td>\n",
       "    </tr>\n",
       "  </tbody>\n",
       "</table>\n",
       "<p>479814 rows × 16 columns</p>\n",
       "</div>"
      ],
      "text/plain": [
       "                                                      url        type  length  \\\n",
       "0                                        br-icloud.com.br    phishing      16   \n",
       "1       http://www.garage-pirenne.be/index.php?option=...  defacement      88   \n",
       "2       http://adventure-nicaragua.net/index.php?optio...  defacement     235   \n",
       "3           espn.go.com/nba/player/_/id/3457/brandon-rush      benign      45   \n",
       "4          yourbittorrent.com/?q=anthony-hamilton-soulife      benign      46   \n",
       "...                                                   ...         ...     ...   \n",
       "479809             psx.ign.com/articles/131/131835p1.html      benign      38   \n",
       "479810           xbox360.gamespy.com/xbox-360/dead-space/      benign      40   \n",
       "479811       games.teamxbox.com/xbox-360/1860/Dead-Space/      benign      44   \n",
       "479812      en.wikipedia.org/wiki/Dead_Space_(video_game)      benign      45   \n",
       "479813          www.angelfire.com/goth/devilmaycrytonite/      benign      41   \n",
       "\n",
       "        vowel_density  consonant_density  digit_density  symbol_density  \\\n",
       "0            0.250000           0.562500       0.000000        0.187500   \n",
       "1            0.250000           0.465909       0.079545        0.204545   \n",
       "2            0.157447           0.689362       0.093617        0.059574   \n",
       "3            0.222222           0.466667       0.088889        0.222222   \n",
       "4            0.326087           0.543478       0.000000        0.130435   \n",
       "...               ...                ...            ...             ...   \n",
       "479809       0.131579           0.447368       0.263158        0.157895   \n",
       "479810       0.225000           0.450000       0.150000        0.175000   \n",
       "479811       0.250000           0.409091       0.159091        0.181818   \n",
       "479812       0.400000           0.400000       0.000000        0.200000   \n",
       "479813       0.292683           0.585366       0.000000        0.121951   \n",
       "\n",
       "        vowel_consonant_pairs_density  consonant_vowel_pairs_density  \\\n",
       "0                            0.187500                       0.125000   \n",
       "1                            0.181818                       0.181818   \n",
       "2                            0.119149                       0.102128   \n",
       "3                            0.177778                       0.177778   \n",
       "4                            0.260870                       0.260870   \n",
       "...                               ...                            ...   \n",
       "479809                       0.131579                       0.078947   \n",
       "479810                       0.175000                       0.200000   \n",
       "479811                       0.181818                       0.204545   \n",
       "479812                       0.222222                       0.288889   \n",
       "479813                       0.243902                       0.268293   \n",
       "\n",
       "        vowel_vowel_pairs_density  consonant_consonant_pairs_density  \\\n",
       "0                        0.062500                           0.187500   \n",
       "1                        0.022727                           0.170455   \n",
       "2                        0.021277                           0.472340   \n",
       "3                        0.000000                           0.155556   \n",
       "4                        0.043478                           0.173913   \n",
       "...                           ...                                ...   \n",
       "479809                   0.000000                           0.210526   \n",
       "479810                   0.025000                           0.125000   \n",
       "479811                   0.045455                           0.090909   \n",
       "479812                   0.066667                           0.044444   \n",
       "479813                   0.000000                           0.243902   \n",
       "\n",
       "        digit_digit_pairs_density  has_www  capital_letter_density  \\\n",
       "0                        0.000000    False                0.000000   \n",
       "1                        0.034091     True                0.000000   \n",
       "2                        0.012766    False                0.268085   \n",
       "3                        0.066667    False                0.000000   \n",
       "4                        0.000000    False                0.000000   \n",
       "...                           ...      ...                     ...   \n",
       "479809                   0.184211    False                0.000000   \n",
       "479810                   0.100000    False                0.000000   \n",
       "479811                   0.113636    False                0.045455   \n",
       "479812                   0.000000    False                0.044444   \n",
       "479813                   0.000000     True                0.000000   \n",
       "\n",
       "        subdirectories_count  query_count  \n",
       "0                          0            0  \n",
       "1                          1            4  \n",
       "2                          1            3  \n",
       "3                          6            0  \n",
       "4                          1            1  \n",
       "...                      ...          ...  \n",
       "479809                     3            0  \n",
       "479810                     3            0  \n",
       "479811                     4            0  \n",
       "479812                     2            0  \n",
       "479813                     3            0  \n",
       "\n",
       "[479814 rows x 16 columns]"
      ]
     },
     "execution_count": 40,
     "metadata": {},
     "output_type": "execute_result"
    }
   ],
   "source": [
    "urls"
   ]
  },
  {
   "cell_type": "markdown",
   "metadata": {},
   "source": [
    "# Creación de conjuntos de entrenamiento y prueba"
   ]
  },
  {
   "cell_type": "markdown",
   "metadata": {},
   "source": [
    "El dataset se normaliza haciendo uso de MinMaxScaler, así todos los valores se encuentran en el rango [0,1]"
   ]
  },
  {
   "cell_type": "code",
   "execution_count": 78,
   "metadata": {},
   "outputs": [
    {
     "data": {
      "text/html": [
       "<div>\n",
       "<style scoped>\n",
       "    .dataframe tbody tr th:only-of-type {\n",
       "        vertical-align: middle;\n",
       "    }\n",
       "\n",
       "    .dataframe tbody tr th {\n",
       "        vertical-align: top;\n",
       "    }\n",
       "\n",
       "    .dataframe thead th {\n",
       "        text-align: right;\n",
       "    }\n",
       "</style>\n",
       "<table border=\"1\" class=\"dataframe\">\n",
       "  <thead>\n",
       "    <tr style=\"text-align: right;\">\n",
       "      <th></th>\n",
       "      <th>url</th>\n",
       "      <th>length</th>\n",
       "      <th>vowel_density</th>\n",
       "      <th>consonant_density</th>\n",
       "      <th>digit_density</th>\n",
       "      <th>symbol_density</th>\n",
       "      <th>vowel_consonant_pairs_density</th>\n",
       "      <th>consonant_vowel_pairs_density</th>\n",
       "      <th>vowel_vowel_pairs_density</th>\n",
       "      <th>consonant_consonant_pairs_density</th>\n",
       "      <th>digit_digit_pairs_density</th>\n",
       "      <th>has_www</th>\n",
       "      <th>capital_letter_density</th>\n",
       "      <th>subdirectories_count</th>\n",
       "      <th>query_count</th>\n",
       "    </tr>\n",
       "  </thead>\n",
       "  <tbody>\n",
       "    <tr>\n",
       "      <th>0</th>\n",
       "      <td>br-icloud.com.br</td>\n",
       "      <td>0.005069</td>\n",
       "      <td>0.375000</td>\n",
       "      <td>0.602679</td>\n",
       "      <td>0.000000</td>\n",
       "      <td>0.347506</td>\n",
       "      <td>0.412500</td>\n",
       "      <td>0.267857</td>\n",
       "      <td>0.137500</td>\n",
       "      <td>0.234375</td>\n",
       "      <td>0.000000</td>\n",
       "      <td>0.0</td>\n",
       "      <td>0.000000</td>\n",
       "      <td>0.000000</td>\n",
       "      <td>0.000000</td>\n",
       "    </tr>\n",
       "    <tr>\n",
       "      <th>1</th>\n",
       "      <td>bopsecrets.org/rexroth/cr/1.htm</td>\n",
       "      <td>0.011982</td>\n",
       "      <td>0.290323</td>\n",
       "      <td>0.656682</td>\n",
       "      <td>0.040860</td>\n",
       "      <td>0.295953</td>\n",
       "      <td>0.425806</td>\n",
       "      <td>0.345622</td>\n",
       "      <td>0.000000</td>\n",
       "      <td>0.362903</td>\n",
       "      <td>0.000000</td>\n",
       "      <td>0.0</td>\n",
       "      <td>0.000000</td>\n",
       "      <td>0.076923</td>\n",
       "      <td>0.000000</td>\n",
       "    </tr>\n",
       "    <tr>\n",
       "      <th>2</th>\n",
       "      <td>http://www.garage-pirenne.be/index.php?option=...</td>\n",
       "      <td>0.038249</td>\n",
       "      <td>0.375000</td>\n",
       "      <td>0.499188</td>\n",
       "      <td>0.100758</td>\n",
       "      <td>0.381033</td>\n",
       "      <td>0.400000</td>\n",
       "      <td>0.389610</td>\n",
       "      <td>0.050000</td>\n",
       "      <td>0.213068</td>\n",
       "      <td>0.045375</td>\n",
       "      <td>1.0</td>\n",
       "      <td>0.000000</td>\n",
       "      <td>0.025641</td>\n",
       "      <td>0.078431</td>\n",
       "    </tr>\n",
       "    <tr>\n",
       "      <th>3</th>\n",
       "      <td>http://adventure-nicaragua.net/index.php?optio...</td>\n",
       "      <td>0.105991</td>\n",
       "      <td>0.236170</td>\n",
       "      <td>0.738602</td>\n",
       "      <td>0.118582</td>\n",
       "      <td>0.095884</td>\n",
       "      <td>0.262128</td>\n",
       "      <td>0.218845</td>\n",
       "      <td>0.046809</td>\n",
       "      <td>0.590426</td>\n",
       "      <td>0.016991</td>\n",
       "      <td>0.0</td>\n",
       "      <td>0.286574</td>\n",
       "      <td>0.025641</td>\n",
       "      <td>0.058824</td>\n",
       "    </tr>\n",
       "    <tr>\n",
       "      <th>4</th>\n",
       "      <td>http://buzzfil.net/m/show-art/ils-etaient-loin...</td>\n",
       "      <td>0.052074</td>\n",
       "      <td>0.483051</td>\n",
       "      <td>0.499395</td>\n",
       "      <td>0.010734</td>\n",
       "      <td>0.378760</td>\n",
       "      <td>0.410169</td>\n",
       "      <td>0.399516</td>\n",
       "      <td>0.186441</td>\n",
       "      <td>0.180085</td>\n",
       "      <td>0.000000</td>\n",
       "      <td>0.0</td>\n",
       "      <td>0.000000</td>\n",
       "      <td>0.076923</td>\n",
       "      <td>0.000000</td>\n",
       "    </tr>\n",
       "    <tr>\n",
       "      <th>...</th>\n",
       "      <td>...</td>\n",
       "      <td>...</td>\n",
       "      <td>...</td>\n",
       "      <td>...</td>\n",
       "      <td>...</td>\n",
       "      <td>...</td>\n",
       "      <td>...</td>\n",
       "      <td>...</td>\n",
       "      <td>...</td>\n",
       "      <td>...</td>\n",
       "      <td>...</td>\n",
       "      <td>...</td>\n",
       "      <td>...</td>\n",
       "      <td>...</td>\n",
       "      <td>...</td>\n",
       "    </tr>\n",
       "    <tr>\n",
       "      <th>436988</th>\n",
       "      <td>wii.gamespy.com/wii/cursed-mountain/</td>\n",
       "      <td>0.014286</td>\n",
       "      <td>0.541667</td>\n",
       "      <td>0.505952</td>\n",
       "      <td>0.000000</td>\n",
       "      <td>0.306528</td>\n",
       "      <td>0.427778</td>\n",
       "      <td>0.535714</td>\n",
       "      <td>0.244444</td>\n",
       "      <td>0.138889</td>\n",
       "      <td>0.000000</td>\n",
       "      <td>0.0</td>\n",
       "      <td>0.000000</td>\n",
       "      <td>0.076923</td>\n",
       "      <td>0.000000</td>\n",
       "    </tr>\n",
       "    <tr>\n",
       "      <th>436989</th>\n",
       "      <td>wii.ign.com/objects/142/14270799.html</td>\n",
       "      <td>0.014747</td>\n",
       "      <td>0.243243</td>\n",
       "      <td>0.405405</td>\n",
       "      <td>0.376577</td>\n",
       "      <td>0.297668</td>\n",
       "      <td>0.237838</td>\n",
       "      <td>0.173745</td>\n",
       "      <td>0.059459</td>\n",
       "      <td>0.236486</td>\n",
       "      <td>0.323753</td>\n",
       "      <td>0.0</td>\n",
       "      <td>0.000000</td>\n",
       "      <td>0.076923</td>\n",
       "      <td>0.000000</td>\n",
       "    </tr>\n",
       "    <tr>\n",
       "      <th>436990</th>\n",
       "      <td>xbox360.gamespy.com/xbox-360/dead-space/</td>\n",
       "      <td>0.016129</td>\n",
       "      <td>0.337500</td>\n",
       "      <td>0.482143</td>\n",
       "      <td>0.190000</td>\n",
       "      <td>0.322919</td>\n",
       "      <td>0.385000</td>\n",
       "      <td>0.428571</td>\n",
       "      <td>0.055000</td>\n",
       "      <td>0.156250</td>\n",
       "      <td>0.133099</td>\n",
       "      <td>0.0</td>\n",
       "      <td>0.000000</td>\n",
       "      <td>0.076923</td>\n",
       "      <td>0.000000</td>\n",
       "    </tr>\n",
       "    <tr>\n",
       "      <th>436991</th>\n",
       "      <td>www.gamespot.com/xbox360/action/deadspace/</td>\n",
       "      <td>0.017051</td>\n",
       "      <td>0.428571</td>\n",
       "      <td>0.535714</td>\n",
       "      <td>0.090476</td>\n",
       "      <td>0.259696</td>\n",
       "      <td>0.471429</td>\n",
       "      <td>0.459184</td>\n",
       "      <td>0.104762</td>\n",
       "      <td>0.208333</td>\n",
       "      <td>0.063380</td>\n",
       "      <td>1.0</td>\n",
       "      <td>0.000000</td>\n",
       "      <td>0.102564</td>\n",
       "      <td>0.000000</td>\n",
       "    </tr>\n",
       "    <tr>\n",
       "      <th>436992</th>\n",
       "      <td>en.wikipedia.org/wiki/Dead_Space_(video_game)</td>\n",
       "      <td>0.018433</td>\n",
       "      <td>0.600000</td>\n",
       "      <td>0.428571</td>\n",
       "      <td>0.000000</td>\n",
       "      <td>0.372092</td>\n",
       "      <td>0.488889</td>\n",
       "      <td>0.619048</td>\n",
       "      <td>0.146667</td>\n",
       "      <td>0.055556</td>\n",
       "      <td>0.000000</td>\n",
       "      <td>0.0</td>\n",
       "      <td>0.047510</td>\n",
       "      <td>0.051282</td>\n",
       "      <td>0.000000</td>\n",
       "    </tr>\n",
       "  </tbody>\n",
       "</table>\n",
       "<p>436993 rows × 15 columns</p>\n",
       "</div>"
      ],
      "text/plain": [
       "                                                      url    length  \\\n",
       "0                                        br-icloud.com.br  0.005069   \n",
       "1                         bopsecrets.org/rexroth/cr/1.htm  0.011982   \n",
       "2       http://www.garage-pirenne.be/index.php?option=...  0.038249   \n",
       "3       http://adventure-nicaragua.net/index.php?optio...  0.105991   \n",
       "4       http://buzzfil.net/m/show-art/ils-etaient-loin...  0.052074   \n",
       "...                                                   ...       ...   \n",
       "436988               wii.gamespy.com/wii/cursed-mountain/  0.014286   \n",
       "436989              wii.ign.com/objects/142/14270799.html  0.014747   \n",
       "436990           xbox360.gamespy.com/xbox-360/dead-space/  0.016129   \n",
       "436991         www.gamespot.com/xbox360/action/deadspace/  0.017051   \n",
       "436992      en.wikipedia.org/wiki/Dead_Space_(video_game)  0.018433   \n",
       "\n",
       "        vowel_density  consonant_density  digit_density  symbol_density  \\\n",
       "0            0.375000           0.602679       0.000000        0.347506   \n",
       "1            0.290323           0.656682       0.040860        0.295953   \n",
       "2            0.375000           0.499188       0.100758        0.381033   \n",
       "3            0.236170           0.738602       0.118582        0.095884   \n",
       "4            0.483051           0.499395       0.010734        0.378760   \n",
       "...               ...                ...            ...             ...   \n",
       "436988       0.541667           0.505952       0.000000        0.306528   \n",
       "436989       0.243243           0.405405       0.376577        0.297668   \n",
       "436990       0.337500           0.482143       0.190000        0.322919   \n",
       "436991       0.428571           0.535714       0.090476        0.259696   \n",
       "436992       0.600000           0.428571       0.000000        0.372092   \n",
       "\n",
       "        vowel_consonant_pairs_density  consonant_vowel_pairs_density  \\\n",
       "0                            0.412500                       0.267857   \n",
       "1                            0.425806                       0.345622   \n",
       "2                            0.400000                       0.389610   \n",
       "3                            0.262128                       0.218845   \n",
       "4                            0.410169                       0.399516   \n",
       "...                               ...                            ...   \n",
       "436988                       0.427778                       0.535714   \n",
       "436989                       0.237838                       0.173745   \n",
       "436990                       0.385000                       0.428571   \n",
       "436991                       0.471429                       0.459184   \n",
       "436992                       0.488889                       0.619048   \n",
       "\n",
       "        vowel_vowel_pairs_density  consonant_consonant_pairs_density  \\\n",
       "0                        0.137500                           0.234375   \n",
       "1                        0.000000                           0.362903   \n",
       "2                        0.050000                           0.213068   \n",
       "3                        0.046809                           0.590426   \n",
       "4                        0.186441                           0.180085   \n",
       "...                           ...                                ...   \n",
       "436988                   0.244444                           0.138889   \n",
       "436989                   0.059459                           0.236486   \n",
       "436990                   0.055000                           0.156250   \n",
       "436991                   0.104762                           0.208333   \n",
       "436992                   0.146667                           0.055556   \n",
       "\n",
       "        digit_digit_pairs_density  has_www  capital_letter_density  \\\n",
       "0                        0.000000      0.0                0.000000   \n",
       "1                        0.000000      0.0                0.000000   \n",
       "2                        0.045375      1.0                0.000000   \n",
       "3                        0.016991      0.0                0.286574   \n",
       "4                        0.000000      0.0                0.000000   \n",
       "...                           ...      ...                     ...   \n",
       "436988                   0.000000      0.0                0.000000   \n",
       "436989                   0.323753      0.0                0.000000   \n",
       "436990                   0.133099      0.0                0.000000   \n",
       "436991                   0.063380      1.0                0.000000   \n",
       "436992                   0.000000      0.0                0.047510   \n",
       "\n",
       "        subdirectories_count  query_count  \n",
       "0                   0.000000     0.000000  \n",
       "1                   0.076923     0.000000  \n",
       "2                   0.025641     0.078431  \n",
       "3                   0.025641     0.058824  \n",
       "4                   0.076923     0.000000  \n",
       "...                      ...          ...  \n",
       "436988              0.076923     0.000000  \n",
       "436989              0.076923     0.000000  \n",
       "436990              0.076923     0.000000  \n",
       "436991              0.102564     0.000000  \n",
       "436992              0.051282     0.000000  \n",
       "\n",
       "[436993 rows x 15 columns]"
      ]
     },
     "execution_count": 78,
     "metadata": {},
     "output_type": "execute_result"
    }
   ],
   "source": [
    "scaler = MinMaxScaler()\n",
    "x = pd.DataFrame (scaler.fit_transform(urls.drop(columns=['url', 'type'])))\n",
    "x.columns = urls.columns[2:]\n",
    "x = pd.concat([urls['url'],x], axis=1)\n",
    "x"
   ]
  },
  {
   "cell_type": "code",
   "execution_count": 79,
   "metadata": {},
   "outputs": [
    {
     "data": {
      "text/html": [
       "<div>\n",
       "<style scoped>\n",
       "    .dataframe tbody tr th:only-of-type {\n",
       "        vertical-align: middle;\n",
       "    }\n",
       "\n",
       "    .dataframe tbody tr th {\n",
       "        vertical-align: top;\n",
       "    }\n",
       "\n",
       "    .dataframe thead th {\n",
       "        text-align: right;\n",
       "    }\n",
       "</style>\n",
       "<table border=\"1\" class=\"dataframe\">\n",
       "  <thead>\n",
       "    <tr style=\"text-align: right;\">\n",
       "      <th></th>\n",
       "      <th>type</th>\n",
       "    </tr>\n",
       "  </thead>\n",
       "  <tbody>\n",
       "    <tr>\n",
       "      <th>0</th>\n",
       "      <td>phishing</td>\n",
       "    </tr>\n",
       "    <tr>\n",
       "      <th>1</th>\n",
       "      <td>benign</td>\n",
       "    </tr>\n",
       "    <tr>\n",
       "      <th>2</th>\n",
       "      <td>defacement</td>\n",
       "    </tr>\n",
       "    <tr>\n",
       "      <th>3</th>\n",
       "      <td>defacement</td>\n",
       "    </tr>\n",
       "    <tr>\n",
       "      <th>4</th>\n",
       "      <td>benign</td>\n",
       "    </tr>\n",
       "    <tr>\n",
       "      <th>...</th>\n",
       "      <td>...</td>\n",
       "    </tr>\n",
       "    <tr>\n",
       "      <th>436988</th>\n",
       "      <td>benign</td>\n",
       "    </tr>\n",
       "    <tr>\n",
       "      <th>436989</th>\n",
       "      <td>benign</td>\n",
       "    </tr>\n",
       "    <tr>\n",
       "      <th>436990</th>\n",
       "      <td>benign</td>\n",
       "    </tr>\n",
       "    <tr>\n",
       "      <th>436991</th>\n",
       "      <td>benign</td>\n",
       "    </tr>\n",
       "    <tr>\n",
       "      <th>436992</th>\n",
       "      <td>benign</td>\n",
       "    </tr>\n",
       "  </tbody>\n",
       "</table>\n",
       "<p>436993 rows × 1 columns</p>\n",
       "</div>"
      ],
      "text/plain": [
       "              type\n",
       "0         phishing\n",
       "1           benign\n",
       "2       defacement\n",
       "3       defacement\n",
       "4           benign\n",
       "...            ...\n",
       "436988      benign\n",
       "436989      benign\n",
       "436990      benign\n",
       "436991      benign\n",
       "436992      benign\n",
       "\n",
       "[436993 rows x 1 columns]"
      ]
     },
     "execution_count": 79,
     "metadata": {},
     "output_type": "execute_result"
    }
   ],
   "source": [
    "y = urls[['type']].copy()\n",
    "\n",
    "y"
   ]
  },
  {
   "cell_type": "markdown",
   "metadata": {},
   "source": [
    "Se cambian los valores de las etiquetas tal que:\n",
    "- benign = 1\n",
    "- defacement = 2\n",
    "- phishing = 3\n",
    "- malware = 4\n"
   ]
  },
  {
   "cell_type": "code",
   "execution_count": 80,
   "metadata": {},
   "outputs": [
    {
     "data": {
      "text/html": [
       "<div>\n",
       "<style scoped>\n",
       "    .dataframe tbody tr th:only-of-type {\n",
       "        vertical-align: middle;\n",
       "    }\n",
       "\n",
       "    .dataframe tbody tr th {\n",
       "        vertical-align: top;\n",
       "    }\n",
       "\n",
       "    .dataframe thead th {\n",
       "        text-align: right;\n",
       "    }\n",
       "</style>\n",
       "<table border=\"1\" class=\"dataframe\">\n",
       "  <thead>\n",
       "    <tr style=\"text-align: right;\">\n",
       "      <th></th>\n",
       "      <th>type</th>\n",
       "    </tr>\n",
       "  </thead>\n",
       "  <tbody>\n",
       "    <tr>\n",
       "      <th>0</th>\n",
       "      <td>3</td>\n",
       "    </tr>\n",
       "    <tr>\n",
       "      <th>1</th>\n",
       "      <td>1</td>\n",
       "    </tr>\n",
       "    <tr>\n",
       "      <th>2</th>\n",
       "      <td>2</td>\n",
       "    </tr>\n",
       "    <tr>\n",
       "      <th>3</th>\n",
       "      <td>2</td>\n",
       "    </tr>\n",
       "    <tr>\n",
       "      <th>4</th>\n",
       "      <td>1</td>\n",
       "    </tr>\n",
       "    <tr>\n",
       "      <th>...</th>\n",
       "      <td>...</td>\n",
       "    </tr>\n",
       "    <tr>\n",
       "      <th>436988</th>\n",
       "      <td>1</td>\n",
       "    </tr>\n",
       "    <tr>\n",
       "      <th>436989</th>\n",
       "      <td>1</td>\n",
       "    </tr>\n",
       "    <tr>\n",
       "      <th>436990</th>\n",
       "      <td>1</td>\n",
       "    </tr>\n",
       "    <tr>\n",
       "      <th>436991</th>\n",
       "      <td>1</td>\n",
       "    </tr>\n",
       "    <tr>\n",
       "      <th>436992</th>\n",
       "      <td>1</td>\n",
       "    </tr>\n",
       "  </tbody>\n",
       "</table>\n",
       "<p>436993 rows × 1 columns</p>\n",
       "</div>"
      ],
      "text/plain": [
       "        type\n",
       "0          3\n",
       "1          1\n",
       "2          2\n",
       "3          2\n",
       "4          1\n",
       "...      ...\n",
       "436988     1\n",
       "436989     1\n",
       "436990     1\n",
       "436991     1\n",
       "436992     1\n",
       "\n",
       "[436993 rows x 1 columns]"
      ]
     },
     "execution_count": 80,
     "metadata": {},
     "output_type": "execute_result"
    }
   ],
   "source": [
    "category_mapping = {\"benign\": 1, \"defacement\": 2, \"phishing\": 3, \"malware\": 4}\n",
    "y['type'] = y['type'].map(category_mapping)\n",
    "#y = pd.concat([urls['url'],y], axis=1)\n",
    "y"
   ]
  },
  {
   "cell_type": "markdown",
   "metadata": {},
   "source": [
    "Se obtienen los conjuntos de entrenamiento y prueba, el de entrenamiento abarca 70% de los datos y el de prueba 30%"
   ]
  },
  {
   "cell_type": "code",
   "execution_count": 81,
   "metadata": {},
   "outputs": [],
   "source": [
    "x_train, x_test, y_train, y_test = train_test_split(x, y, test_size=0.3, stratify=y, shuffle=True, random_state=None)"
   ]
  },
  {
   "cell_type": "markdown",
   "metadata": {},
   "source": [
    "Se utiliza OneHotEncoder para las etiquetas"
   ]
  },
  {
   "cell_type": "code",
   "execution_count": 82,
   "metadata": {},
   "outputs": [
    {
     "data": {
      "text/plain": [
       "array([[1., 0., 0., 0.],\n",
       "       [1., 0., 0., 0.],\n",
       "       [0., 0., 1., 0.],\n",
       "       ...,\n",
       "       [0., 1., 0., 0.],\n",
       "       [1., 0., 0., 0.],\n",
       "       [1., 0., 0., 0.]])"
      ]
     },
     "execution_count": 82,
     "metadata": {},
     "output_type": "execute_result"
    }
   ],
   "source": [
    "y_train = OneHotEncoder().fit_transform(y_train).toarray()\n",
    "y_test = OneHotEncoder().fit_transform(y_test).toarray()\n",
    "\n",
    "y_train"
   ]
  },
  {
   "cell_type": "markdown",
   "metadata": {},
   "source": [
    "Se obtienen los conjuntos de entrenamiento y prueba como tensores para poder utilizarlos con pytorch"
   ]
  },
  {
   "cell_type": "code",
   "execution_count": 83,
   "metadata": {},
   "outputs": [],
   "source": [
    "x_train_tensor = torch.tensor(x_train.iloc[:, 1:].values, dtype=torch.float32)\n",
    "x_test_tensor = torch.tensor(x_test.iloc[:, 1:].values, dtype=torch.float32)\n",
    "y_train_tensor = torch.tensor(y_train, dtype=torch.float32)\n",
    "y_test_tensor = torch.tensor(y_test, dtype=torch.float32)"
   ]
  },
  {
   "cell_type": "code",
   "execution_count": 84,
   "metadata": {},
   "outputs": [],
   "source": [
    "x_train_tensor = x_train_tensor.to(device)\n",
    "x_test_tensor = x_test_tensor.to(device)\n",
    "y_train_tensor = y_train_tensor.to(device)\n",
    "y_test_tensor = y_test_tensor.to(device)"
   ]
  },
  {
   "cell_type": "code",
   "execution_count": 48,
   "metadata": {},
   "outputs": [
    {
     "data": {
      "text/plain": [
       "(torch.Size([335869, 14]),\n",
       " torch.Size([335869, 4]),\n",
       " torch.Size([143945, 4]),\n",
       " torch.Size([143945, 4]))"
      ]
     },
     "execution_count": 48,
     "metadata": {},
     "output_type": "execute_result"
    }
   ],
   "source": [
    "x_train_tensor.shape, y_train_tensor.shape, y_test_tensor.shape, y_test_tensor.shape"
   ]
  },
  {
   "cell_type": "markdown",
   "metadata": {},
   "source": [
    "# Red neuronal"
   ]
  },
  {
   "cell_type": "markdown",
   "metadata": {},
   "source": [
    "Se define la clase Multilayer"
   ]
  },
  {
   "cell_type": "code",
   "execution_count": 93,
   "metadata": {},
   "outputs": [],
   "source": [
    "class Multilayer(nn.Module):\n",
    "    \n",
    "    def __init__(self):\n",
    "        super().__init__()\n",
    "        self.hidden1 = nn.Linear(x_train_tensor.shape[1],50)\n",
    "        self.hidden2 = nn.Linear(50,50)\n",
    "        self.hidden3 = nn.Linear(50,25)\n",
    "        self.output = nn.Linear(25,4)\n",
    "        self.sigmoid = nn.Sigmoid()\n",
    "        self.relu = nn.ReLU()\n",
    "        self.softmax = nn.Softmax(dim=1)\n",
    "        self.loss = nn.CrossEntropyLoss()\n",
    "        self.history = []\n",
    "        \n",
    "    def forward(self,X):\n",
    "        X = self.hidden1(X)\n",
    "        X = self.relu(X)\n",
    "        X = self.hidden2(X)\n",
    "        X = self.relu(X)\n",
    "        X = self.hidden3(X)\n",
    "        X = self.relu(X)\n",
    "        X = self.output(X)\n",
    "        X = self.softmax(X)\n",
    "        return X\n",
    "    \n",
    "    def track_progress(self, error):\n",
    "        self.history.append(error.item())\n",
    "    \n",
    "    def back_propagate(self,X,Y):\n",
    "        prediction = self.forward(X)\n",
    "        error = self.loss(prediction,Y)\n",
    "        self.zero_grad()\n",
    "        error.backward()\n",
    "        \n",
    "    def train(self,train_X,train_Y,optimizer,epochs=100,verbose=False):\n",
    "        for i in range(epochs):\n",
    "            self.back_propagate(train_X,train_Y)\n",
    "            optimizer.step()\n",
    "            prediction = self.forward(train_X)\n",
    "            error = self.loss(prediction,train_Y)\n",
    "            self.track_progress(error)\n",
    "            if verbose:\n",
    "                print(f'Epoch [{i}], Error: {error.item()}')\n",
    "    \n",
    "    def confusion(self,test_X,test_Y):\n",
    "        prediction = self.forward(test_X)\n",
    "        matriz = confusion_matrix(np.argmax(test_Y.cpu().detach().numpy(), axis=1), np.argmax(prediction.cpu().detach().numpy(), axis=1))\n",
    "        return matriz"
   ]
  },
  {
   "cell_type": "markdown",
   "metadata": {},
   "source": [
    "## Entrenamiento de la red neuronal"
   ]
  },
  {
   "cell_type": "code",
   "execution_count": 94,
   "metadata": {},
   "outputs": [],
   "source": [
    "from torch.optim import SGD\n",
    "from torch.optim import Adam\n",
    "from torch.optim import Adagrad\n",
    "\n",
    "network = Multilayer().to(device)\n",
    "optimizer = Adam(network.parameters(), lr=0.02)"
   ]
  },
  {
   "cell_type": "code",
   "execution_count": 95,
   "metadata": {},
   "outputs": [],
   "source": [
    "torch.cuda.empty_cache() if torch.cuda.is_available() else None"
   ]
  },
  {
   "cell_type": "code",
   "execution_count": null,
   "metadata": {},
   "outputs": [],
   "source": [
    "# train\n",
    "network.train(x_train_tensor,y_train_tensor,optimizer,epochs=10000,verbose=True)"
   ]
  },
  {
   "cell_type": "markdown",
   "metadata": {},
   "source": [
    "## Matriz de confusión y gráfica de error"
   ]
  },
  {
   "cell_type": "markdown",
   "metadata": {},
   "source": [
    "Cada fila y columna corresponde a una clase, en la diagonal se encuentran las clasificadas correctamente en cada clase. El orden de las clases en la matriz de confusión es: benign, defacement, phishing y malware, de arriba hacia abajo y de izquierda a derecha."
   ]
  },
  {
   "cell_type": "code",
   "execution_count": 124,
   "metadata": {},
   "outputs": [
    {
     "name": "stdout",
     "output_type": "stream",
     "text": [
      "[[62094   581  1402   154]\n",
      " [  637 27404   842    54]\n",
      " [ 6397  1723 19847   207]\n",
      " [  874   935   930  7017]]\n"
     ]
    },
    {
     "data": {
      "image/png": "[encoded data removed]",
      "text/plain": [
       "<Figure size 640x480 with 1 Axes>"
      ]
     },
     "metadata": {},
     "output_type": "display_data"
    }
   ],
   "source": [
    "confusion = network.confusion(x_test_tensor,y_test_tensor)\n",
    "\n",
    "print(confusion)\n",
    "\n",
    "plt.plot(network.history)\n",
    "plt.title('Error history')\n",
    "plt.xlabel('Epoch')\n",
    "plt.ylabel('Error')\n",
    "plt.show()"
   ]
  },
  {
   "cell_type": "markdown",
   "metadata": {},
   "source": [
    "### Precisión en el conjunto de prueba"
   ]
  },
  {
   "cell_type": "code",
   "execution_count": 125,
   "metadata": {},
   "outputs": [
    {
     "name": "stdout",
     "output_type": "stream",
     "text": [
      "Precision: 88.75497719263453%\n"
     ]
    }
   ],
   "source": [
    "predictions = network(x_test_tensor).detach().cpu().numpy()\n",
    "predictions = np.round(predictions).astype(int)\n",
    "accuracy = accuracy_score(y_test, predictions)\n",
    "print(f'Precision: {accuracy * 100}%')"
   ]
  },
  {
   "cell_type": "markdown",
   "metadata": {},
   "source": [
    "## Visualización"
   ]
  },
  {
   "cell_type": "markdown",
   "metadata": {},
   "source": [
    "### Predicción en conjunto de prueba\n",
    "\n",
    "Se muestra un widget donde se puede seleccionar cualquier URL en el conjunto de prueba, al hacer click en el boton predict se muestra en texto la predicción de la red neuronal y su etiqueta con la clasificación correcta."
   ]
  },
  {
   "cell_type": "code",
   "execution_count": 118,
   "metadata": {},
   "outputs": [
    {
     "data": {
      "application/vnd.jupyter.widget-view+json": {
       "model_id": "4d194aa534534f57a321c045d1b27f32",
       "version_major": 2,
       "version_minor": 0
      },
      "text/plain": [
       "SelectionSlider(description='URLs:', options=('http://networktrendsnow.com/about-us/news/1-latest/40-admin', '…"
      ]
     },
     "metadata": {},
     "output_type": "display_data"
    },
    {
     "data": {
      "application/vnd.jupyter.widget-view+json": {
       "model_id": "753a9d90075f4bc2b221b4f1d0b84fc4",
       "version_major": 2,
       "version_minor": 0
      },
      "text/plain": [
       "Button(description='Predict', style=ButtonStyle())"
      ]
     },
     "metadata": {},
     "output_type": "display_data"
    },
    {
     "data": {
      "application/vnd.jupyter.widget-view+json": {
       "model_id": "fd3388123f1f4ec6af1dd4353d437c9b",
       "version_major": 2,
       "version_minor": 0
      },
      "text/plain": [
       "Output()"
      ]
     },
     "metadata": {},
     "output_type": "display_data"
    }
   ],
   "source": [
    "classes = ['benign', 'defacement', 'phishing', 'malware']\n",
    "url_slider = widgets.SelectionSlider(options=x_test['url'].values, description='URLs:')\n",
    "button_slider = widgets.Button(description='Predict')\n",
    "output_slider = widgets.Output()\n",
    "\n",
    "def on_button_clicked(b):\n",
    "    url = url_slider.value\n",
    "    url_data = [len(url), calculate_vowel_density(url), calculate_consonant_density(url), \n",
    "                calculate_digit_density(url), calculate_symbol_density(url),\n",
    "                vowel_consonant_density(url), consonant_vowel_pairs_density(url),\n",
    "                vowel_vowel_pairs_density(url), consonant_consonant_pairs_density(url),\n",
    "                digit_digit_pairs_density(url), has_www(url), capital_letter_density(url),\n",
    "                count_subdirectories(url), count_queries(url)]\n",
    "    url_data_df = pd.DataFrame([url_data], columns=x.columns[1:])\n",
    "    url_data = scaler.transform(url_data_df)\n",
    "    url_data = torch.tensor(url_data, dtype=torch.float32)\n",
    "    url_data = url_data.to(device)\n",
    "    model_output = network(url_data)\n",
    "    _, predicted = torch.max(model_output, 1)\n",
    "    \n",
    "    predicted_text = classes[predicted.item()]\n",
    "    try:\n",
    "        url_label_index = np.where(x_test['url'] == url)[0][0]\n",
    "        label_text = classes[y_test[url_label_index].argmax()]\n",
    "    except:\n",
    "        label_text = 'Not found in test set'\n",
    "    \n",
    "    with output_slider:\n",
    "        clear_output()\n",
    "        print('Predicted: ', predicted_text)\n",
    "        print('Label: ', label_text)\n",
    "        \n",
    "button_slider.on_click(on_button_clicked)\n",
    "display(url_slider, button_slider, output_slider)\n"
   ]
  },
  {
   "cell_type": "markdown",
   "metadata": {},
   "source": [
    "### Predicción en input de usuario\n",
    "\n",
    "Se muestra un widget con un recuadro donde el usuario puede ingresar texto y realizar una predicción, dado que se puede ingresar cualquier URL que no se incluya en el conjunto de prueba no se muestra una etiqueta con clasificación correcta en este caso."
   ]
  },
  {
   "cell_type": "code",
   "execution_count": 119,
   "metadata": {},
   "outputs": [
    {
     "data": {
      "application/vnd.jupyter.widget-view+json": {
       "model_id": "b9d81665f5b04dbf996ee70945297e56",
       "version_major": 2,
       "version_minor": 0
      },
      "text/plain": [
       "Text(value='', description='URL:')"
      ]
     },
     "metadata": {},
     "output_type": "display_data"
    },
    {
     "data": {
      "application/vnd.jupyter.widget-view+json": {
       "model_id": "ed521a51f2664a9d897763c58f2dca4a",
       "version_major": 2,
       "version_minor": 0
      },
      "text/plain": [
       "Button(description='Predict', style=ButtonStyle())"
      ]
     },
     "metadata": {},
     "output_type": "display_data"
    },
    {
     "data": {
      "application/vnd.jupyter.widget-view+json": {
       "model_id": "5e43b029eeec40a4a8892bfa52af0274",
       "version_major": 2,
       "version_minor": 0
      },
      "text/plain": [
       "Output()"
      ]
     },
     "metadata": {},
     "output_type": "display_data"
    }
   ],
   "source": [
    "classes = ['benign', 'defacement', 'phishing', 'malware']\n",
    "url_box = widgets.Text(description='URL:')\n",
    "button_box = widgets.Button(description='Predict')\n",
    "output_box = widgets.Output()\n",
    "\n",
    "def on_button_clicked(b):\n",
    "    url = url_box.value\n",
    "    url_data = [len(url), calculate_vowel_density(url), calculate_consonant_density(url), \n",
    "                calculate_digit_density(url), calculate_symbol_density(url),\n",
    "                vowel_consonant_density(url), consonant_vowel_pairs_density(url),\n",
    "                vowel_vowel_pairs_density(url), consonant_consonant_pairs_density(url),\n",
    "                digit_digit_pairs_density(url), has_www(url), capital_letter_density(url),\n",
    "                count_subdirectories(url), count_queries(url)]\n",
    "    url_data_df = pd.DataFrame([url_data], columns=x.columns[1:])\n",
    "    url_data = scaler.transform(url_data_df)\n",
    "    url_data = torch.tensor(url_data, dtype=torch.float32)\n",
    "    url_data = url_data.to(device)\n",
    "    model_output = network(url_data)\n",
    "    _, predicted = torch.max(model_output, 1)\n",
    "    \n",
    "    predicted_text = classes[predicted.item()]\n",
    "    \n",
    "    with output_box:\n",
    "        clear_output()\n",
    "        print('Predicted: ', predicted_text)\n",
    "        \n",
    "button_box.on_click(on_button_clicked)\n",
    "display(url_box, button_box, output_box)"
   ]
  },
  {
   "cell_type": "markdown",
   "metadata": {},
   "source": [
    "# Conclusiones finales"
   ]
  },
  {
   "cell_type": "markdown",
   "metadata": {},
   "source": [
    "Al finalizar varias pruebas con diferentes hiperparámetros se logró obtener una precisión en el conjunto de prueba de aproximadamente 88.75%, \n",
    "Las características de la red son:\n",
    "- capas ocultas: 3 (50 neuronas, 50 neuronas y 25 neuronas)\n",
    "- Funciones de activación para las capas ocultas: reLU\n",
    "- Función de error: Cross Entropy\n",
    "\n",
    "Los hiperparámetros utilizados fueron:\n",
    "- Optimizador: Adam\n",
    "- Learning rate: 0.02\n",
    "- Épocas de entrenamiento: 10000\n",
    "\n",
    "El entrenamiento se realizó haciendo uso de CUDA para optimizar los tiempos de entrenamiento, sin embargo, el entrenamiento mediante CPU no es excesivamente lento.\n",
    "\n",
    "Es interesante notar que después de realizar pruebas con redes de mayores capas y neuronas (de 4 a 5 capas ocultas, +100 neuronas), estas no solo no obtenían mejores resultados, si no que incluso causaban que el entrenamiento se viera estancado en un punto donde el error dejaba de disminuir completamente.\n",
    "\n",
    "Al realizar pruebas el optimizador Adam resultó más efectivo que SGD con gran diferencia, Adagrad obtuvo resultados solo ligeramente peores.\n",
    "\n",
    "Es importante mencionar que para lograr que la red aprendiera de manera significativa los datos se balancearon de tal manera que la clase \"benign\" se redujo a la mitad, esto debido a que el desbalance original causaba que la red se quedara atorada y no obtuviera buenos resultados, pues únicamente aprendía a clasificar URLs como \"benign\". En general reducir la clase \"benign\" en mayor porcentaje al 50% puede significar una ligera mejora en los resultados, sin embargo, se buscó mantener tantos datos como fuera posible para no perder demasiada generalidad, con las pruebas realizadas intentar conservar más del 50% de la clase resultaba en dificultades importantes para entrenar la red.\n",
    "\n",
    "Al realizar pruebas ingresando URLs no incluidas en el dataset se puede observar que la red puede llegar a no generalizar correctamente en URLs benignas cortas (google.com, x.com, etc.) y por lo tanto dar una clasificacióń erronea, por lo que probablemente para mejorar este aspecto será necesario recopilar más datos, sin embargo, realiza un buen trabajo cuando se trata de URLs más extensas y que en general pueden resultar más sospechosas a simple vista."
   ]
  }
 ],
 "metadata": {
  "kernelspec": {
   "display_name": "Python 3",
   "language": "python",
   "name": "python3"
  },
  "language_info": {
   "codemirror_mode": {
    "name": "ipython",
    "version": 3
   },
   "file_extension": ".py",
   "mimetype": "text/x-python",
   "name": "python",
   "nbconvert_exporter": "python",
   "pygments_lexer": "ipython3",
   "version": "3.11.8"
  }
 },
 "nbformat": 4,
 "nbformat_minor": 2
}
